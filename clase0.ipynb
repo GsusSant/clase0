{
 "cells": [
  {
   "cell_type": "markdown",
   "metadata": {},
   "source": [
    "# **CLASE 0**\n",
    "## **Python Crash Course Ejercicios**\n"
   ]
  },
  {
   "cell_type": "markdown",
   "metadata": {},
   "source": [
    "**1. Divida el siguiente string en una lista**\n",
    "```python\n",
    "s = 'Hi there, Sam!'\n",
    "```\n"
   ]
  },
  {
   "cell_type": "markdown",
   "metadata": {},
   "source": [
    "**2. Dadas las variables**\n",
    "\n",
    "    planet = \"Earth\"\n",
    "    diameter = 12742\n",
    "\n",
    "**use el método .format() para imprimir el siguiente string:**\n",
    "```python\n",
    "'The diameter of Earth is 12742 kilometers.'\n",
    "```"
   ]
  },
  {
   "cell_type": "markdown",
   "metadata": {},
   "source": [
    "**3. Dada la siguiente lista concatenada, obtenga de la misma el string 'hello':**\n",
    "\n",
    "```python\n",
    "lst = [1,2,[3,4],[5,[100,200,['hello']],23,11],1,7]\n",
    "```"
   ]
  },
  {
   "cell_type": "markdown",
   "metadata": {},
   "source": [
    "**4. Dado este diccionario concatenado**\n",
    "\n",
    "```python\n",
    "d = {'k1':[1,2,3,{'tricky':['oh','man','inception',{'target':[1,2,3,'hello']}]}]}\n",
    "```\n",
    "**obtenga el string 'hello':**"
   ]
  },
  {
   "cell_type": "markdown",
   "metadata": {},
   "source": [
    "**5. Implemente una función llamada domainGet que obtenga el dominio del email de un usuario. Por ejemplo, para el correo**\n",
    "```\n",
    "    user@domain.com\n",
    "```\n",
    "**se desprendería 'domain.com'. Compruebe el resultado con este propio email.**"
   ]
  },
  {
   "cell_type": "markdown",
   "metadata": {},
   "source": [
    "**6. Implemente una función llamada findDog, que tenga como entrada un string, que devuelva el valor True si ese string contiene la palabra 'dog'. Tenga en cuenta las posibles mayúsculas, y compruebe su función con el string 'Is there a dog here?'.**"
   ]
  },
  {
   "cell_type": "markdown",
   "metadata": {},
   "source": [
    "**7. Implemente una función similar a la del ejercicio anterior, pero que esta vez cuente el número de apariciones del string 'dog' en un cierto input. Compruebe sus resultados con el string:**\n",
    "\n",
    "```python\n",
    "'This dog runs faster than the other dog dude!'\n",
    "```"
   ]
  },
  {
   "cell_type": "markdown",
   "metadata": {},
   "source": [
    "**8. Use funciones lambda y la función .filter() para filtrar palabras de una lista que no empiecen con la letra 's'. Por ejemplo,**\n",
    "```python\n",
    "seq = ['soup','dog','salad','cat','great']\n",
    "```\n",
    "\n",
    "**debería ser filtrado para obtener:**\n",
    "```python\n",
    "seq = ['soup','salad']\n",
    "```"
   ]
  }
 ],
 "metadata": {
  "kernelspec": {
   "display_name": "Python 3",
   "language": "python",
   "name": "python3"
  },
  "language_info": {
   "codemirror_mode": {
    "name": "ipython",
    "version": 3
   },
   "file_extension": ".py",
   "mimetype": "text/x-python",
   "name": "python",
   "nbconvert_exporter": "python",
   "pygments_lexer": "ipython3",
   "version": "3.10.10"
  }
 },
 "nbformat": 4,
 "nbformat_minor": 2
}
